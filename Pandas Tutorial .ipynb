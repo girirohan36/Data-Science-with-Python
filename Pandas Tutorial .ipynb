{
 "cells": [
  {
   "cell_type": "code",
   "execution_count": 1,
   "metadata": {},
   "outputs": [],
   "source": [
    "import pandas as pd\n",
    "import numpy as np"
   ]
  },
  {
   "cell_type": "code",
   "execution_count": 2,
   "metadata": {},
   "outputs": [],
   "source": [
    "s  = pd.Series([1,2,3,4,5,6,np.nan,8,9,10])"
   ]
  },
  {
   "cell_type": "code",
   "execution_count": 3,
   "metadata": {},
   "outputs": [
    {
     "data": {
      "text/plain": [
       "0     1.0\n",
       "1     2.0\n",
       "2     3.0\n",
       "3     4.0\n",
       "4     5.0\n",
       "5     6.0\n",
       "6     NaN\n",
       "7     8.0\n",
       "8     9.0\n",
       "9    10.0\n",
       "dtype: float64"
      ]
     },
     "execution_count": 3,
     "metadata": {},
     "output_type": "execute_result"
    }
   ],
   "source": [
    "s"
   ]
  },
  {
   "cell_type": "code",
   "execution_count": 4,
   "metadata": {},
   "outputs": [],
   "source": [
    "d  = pd.date_range('20200301', periods=10)"
   ]
  },
  {
   "cell_type": "code",
   "execution_count": 5,
   "metadata": {},
   "outputs": [
    {
     "data": {
      "text/plain": [
       "DatetimeIndex(['2020-03-01', '2020-03-02', '2020-03-03', '2020-03-04',\n",
       "               '2020-03-05', '2020-03-06', '2020-03-07', '2020-03-08',\n",
       "               '2020-03-09', '2020-03-10'],\n",
       "              dtype='datetime64[ns]', freq='D')"
      ]
     },
     "execution_count": 5,
     "metadata": {},
     "output_type": "execute_result"
    }
   ],
   "source": [
    "d"
   ]
  },
  {
   "cell_type": "code",
   "execution_count": 6,
   "metadata": {},
   "outputs": [],
   "source": [
    "df = pd.DataFrame(np.random.randn(10,5), index = d, columns= ['A','B','C','D','E'])"
   ]
  },
  {
   "cell_type": "code",
   "execution_count": 7,
   "metadata": {},
   "outputs": [
    {
     "data": {
      "text/html": [
       "<div>\n",
       "<style scoped>\n",
       "    .dataframe tbody tr th:only-of-type {\n",
       "        vertical-align: middle;\n",
       "    }\n",
       "\n",
       "    .dataframe tbody tr th {\n",
       "        vertical-align: top;\n",
       "    }\n",
       "\n",
       "    .dataframe thead th {\n",
       "        text-align: right;\n",
       "    }\n",
       "</style>\n",
       "<table border=\"1\" class=\"dataframe\">\n",
       "  <thead>\n",
       "    <tr style=\"text-align: right;\">\n",
       "      <th></th>\n",
       "      <th>A</th>\n",
       "      <th>B</th>\n",
       "      <th>C</th>\n",
       "      <th>D</th>\n",
       "      <th>E</th>\n",
       "    </tr>\n",
       "  </thead>\n",
       "  <tbody>\n",
       "    <tr>\n",
       "      <th>2020-03-01</th>\n",
       "      <td>-1.342160</td>\n",
       "      <td>-0.626414</td>\n",
       "      <td>-0.943683</td>\n",
       "      <td>0.046141</td>\n",
       "      <td>1.035746</td>\n",
       "    </tr>\n",
       "    <tr>\n",
       "      <th>2020-03-02</th>\n",
       "      <td>-0.126549</td>\n",
       "      <td>-0.528536</td>\n",
       "      <td>-1.016041</td>\n",
       "      <td>-1.390017</td>\n",
       "      <td>1.228016</td>\n",
       "    </tr>\n",
       "    <tr>\n",
       "      <th>2020-03-03</th>\n",
       "      <td>-0.166634</td>\n",
       "      <td>-1.537800</td>\n",
       "      <td>0.165611</td>\n",
       "      <td>-0.509041</td>\n",
       "      <td>-0.539266</td>\n",
       "    </tr>\n",
       "    <tr>\n",
       "      <th>2020-03-04</th>\n",
       "      <td>-0.611977</td>\n",
       "      <td>-0.558939</td>\n",
       "      <td>0.269462</td>\n",
       "      <td>0.207877</td>\n",
       "      <td>0.604916</td>\n",
       "    </tr>\n",
       "    <tr>\n",
       "      <th>2020-03-05</th>\n",
       "      <td>0.169849</td>\n",
       "      <td>-0.424693</td>\n",
       "      <td>-1.074170</td>\n",
       "      <td>-0.869344</td>\n",
       "      <td>0.138637</td>\n",
       "    </tr>\n",
       "    <tr>\n",
       "      <th>2020-03-06</th>\n",
       "      <td>-0.872186</td>\n",
       "      <td>-0.419077</td>\n",
       "      <td>-1.035033</td>\n",
       "      <td>0.276446</td>\n",
       "      <td>0.245909</td>\n",
       "    </tr>\n",
       "    <tr>\n",
       "      <th>2020-03-07</th>\n",
       "      <td>-0.419647</td>\n",
       "      <td>1.486364</td>\n",
       "      <td>0.108750</td>\n",
       "      <td>1.201319</td>\n",
       "      <td>-0.894056</td>\n",
       "    </tr>\n",
       "    <tr>\n",
       "      <th>2020-03-08</th>\n",
       "      <td>0.701300</td>\n",
       "      <td>-0.039313</td>\n",
       "      <td>-0.738982</td>\n",
       "      <td>-1.021938</td>\n",
       "      <td>-0.087560</td>\n",
       "    </tr>\n",
       "    <tr>\n",
       "      <th>2020-03-09</th>\n",
       "      <td>0.997910</td>\n",
       "      <td>0.951180</td>\n",
       "      <td>0.012570</td>\n",
       "      <td>-0.803728</td>\n",
       "      <td>-1.317067</td>\n",
       "    </tr>\n",
       "    <tr>\n",
       "      <th>2020-03-10</th>\n",
       "      <td>0.088607</td>\n",
       "      <td>1.032138</td>\n",
       "      <td>1.421043</td>\n",
       "      <td>0.724866</td>\n",
       "      <td>-0.609651</td>\n",
       "    </tr>\n",
       "  </tbody>\n",
       "</table>\n",
       "</div>"
      ],
      "text/plain": [
       "                   A         B         C         D         E\n",
       "2020-03-01 -1.342160 -0.626414 -0.943683  0.046141  1.035746\n",
       "2020-03-02 -0.126549 -0.528536 -1.016041 -1.390017  1.228016\n",
       "2020-03-03 -0.166634 -1.537800  0.165611 -0.509041 -0.539266\n",
       "2020-03-04 -0.611977 -0.558939  0.269462  0.207877  0.604916\n",
       "2020-03-05  0.169849 -0.424693 -1.074170 -0.869344  0.138637\n",
       "2020-03-06 -0.872186 -0.419077 -1.035033  0.276446  0.245909\n",
       "2020-03-07 -0.419647  1.486364  0.108750  1.201319 -0.894056\n",
       "2020-03-08  0.701300 -0.039313 -0.738982 -1.021938 -0.087560\n",
       "2020-03-09  0.997910  0.951180  0.012570 -0.803728 -1.317067\n",
       "2020-03-10  0.088607  1.032138  1.421043  0.724866 -0.609651"
      ]
     },
     "execution_count": 7,
     "metadata": {},
     "output_type": "execute_result"
    }
   ],
   "source": [
    "df"
   ]
  },
  {
   "cell_type": "code",
   "execution_count": 8,
   "metadata": {},
   "outputs": [],
   "source": [
    "df1 = pd.DataFrame({'A' : [1,2,3,4],\n",
    "                   'B' : pd.Timestamp('20200301'),\n",
    "                   'C' : pd.Series(1, index=list(range(4)), dtype='float'),\n",
    "                    'D': np.array([5]*4 , dtype='int32'),\n",
    "                    'E' : pd.Categorical(['True','False','true','false']),\n",
    "                    'F' : 'Edureka'     })"
   ]
  },
  {
   "cell_type": "code",
   "execution_count": 9,
   "metadata": {},
   "outputs": [
    {
     "data": {
      "text/html": [
       "<div>\n",
       "<style scoped>\n",
       "    .dataframe tbody tr th:only-of-type {\n",
       "        vertical-align: middle;\n",
       "    }\n",
       "\n",
       "    .dataframe tbody tr th {\n",
       "        vertical-align: top;\n",
       "    }\n",
       "\n",
       "    .dataframe thead th {\n",
       "        text-align: right;\n",
       "    }\n",
       "</style>\n",
       "<table border=\"1\" class=\"dataframe\">\n",
       "  <thead>\n",
       "    <tr style=\"text-align: right;\">\n",
       "      <th></th>\n",
       "      <th>A</th>\n",
       "      <th>B</th>\n",
       "      <th>C</th>\n",
       "      <th>D</th>\n",
       "      <th>E</th>\n",
       "      <th>F</th>\n",
       "    </tr>\n",
       "  </thead>\n",
       "  <tbody>\n",
       "    <tr>\n",
       "      <th>0</th>\n",
       "      <td>1</td>\n",
       "      <td>2020-03-01</td>\n",
       "      <td>1.0</td>\n",
       "      <td>5</td>\n",
       "      <td>True</td>\n",
       "      <td>Edureka</td>\n",
       "    </tr>\n",
       "    <tr>\n",
       "      <th>1</th>\n",
       "      <td>2</td>\n",
       "      <td>2020-03-01</td>\n",
       "      <td>1.0</td>\n",
       "      <td>5</td>\n",
       "      <td>False</td>\n",
       "      <td>Edureka</td>\n",
       "    </tr>\n",
       "    <tr>\n",
       "      <th>2</th>\n",
       "      <td>3</td>\n",
       "      <td>2020-03-01</td>\n",
       "      <td>1.0</td>\n",
       "      <td>5</td>\n",
       "      <td>true</td>\n",
       "      <td>Edureka</td>\n",
       "    </tr>\n",
       "    <tr>\n",
       "      <th>3</th>\n",
       "      <td>4</td>\n",
       "      <td>2020-03-01</td>\n",
       "      <td>1.0</td>\n",
       "      <td>5</td>\n",
       "      <td>false</td>\n",
       "      <td>Edureka</td>\n",
       "    </tr>\n",
       "  </tbody>\n",
       "</table>\n",
       "</div>"
      ],
      "text/plain": [
       "   A          B    C  D      E        F\n",
       "0  1 2020-03-01  1.0  5   True  Edureka\n",
       "1  2 2020-03-01  1.0  5  False  Edureka\n",
       "2  3 2020-03-01  1.0  5   true  Edureka\n",
       "3  4 2020-03-01  1.0  5  false  Edureka"
      ]
     },
     "execution_count": 9,
     "metadata": {},
     "output_type": "execute_result"
    }
   ],
   "source": [
    "df1"
   ]
  },
  {
   "cell_type": "code",
   "execution_count": 10,
   "metadata": {},
   "outputs": [
    {
     "data": {
      "text/plain": [
       "A             int64\n",
       "B    datetime64[ns]\n",
       "C           float64\n",
       "D             int32\n",
       "E          category\n",
       "F            object\n",
       "dtype: object"
      ]
     },
     "execution_count": 10,
     "metadata": {},
     "output_type": "execute_result"
    }
   ],
   "source": [
    "df1.dtypes"
   ]
  },
  {
   "cell_type": "code",
   "execution_count": 11,
   "metadata": {},
   "outputs": [
    {
     "data": {
      "text/plain": [
       "A    float64\n",
       "B    float64\n",
       "C    float64\n",
       "D    float64\n",
       "E    float64\n",
       "dtype: object"
      ]
     },
     "execution_count": 11,
     "metadata": {},
     "output_type": "execute_result"
    }
   ],
   "source": [
    "df.dtypes"
   ]
  },
  {
   "cell_type": "code",
   "execution_count": 12,
   "metadata": {},
   "outputs": [
    {
     "data": {
      "text/html": [
       "<div>\n",
       "<style scoped>\n",
       "    .dataframe tbody tr th:only-of-type {\n",
       "        vertical-align: middle;\n",
       "    }\n",
       "\n",
       "    .dataframe tbody tr th {\n",
       "        vertical-align: top;\n",
       "    }\n",
       "\n",
       "    .dataframe thead th {\n",
       "        text-align: right;\n",
       "    }\n",
       "</style>\n",
       "<table border=\"1\" class=\"dataframe\">\n",
       "  <thead>\n",
       "    <tr style=\"text-align: right;\">\n",
       "      <th></th>\n",
       "      <th>A</th>\n",
       "      <th>B</th>\n",
       "      <th>C</th>\n",
       "      <th>D</th>\n",
       "      <th>E</th>\n",
       "    </tr>\n",
       "  </thead>\n",
       "  <tbody>\n",
       "    <tr>\n",
       "      <th>2020-03-01</th>\n",
       "      <td>-1.342160</td>\n",
       "      <td>-0.626414</td>\n",
       "      <td>-0.943683</td>\n",
       "      <td>0.046141</td>\n",
       "      <td>1.035746</td>\n",
       "    </tr>\n",
       "    <tr>\n",
       "      <th>2020-03-02</th>\n",
       "      <td>-0.126549</td>\n",
       "      <td>-0.528536</td>\n",
       "      <td>-1.016041</td>\n",
       "      <td>-1.390017</td>\n",
       "      <td>1.228016</td>\n",
       "    </tr>\n",
       "    <tr>\n",
       "      <th>2020-03-03</th>\n",
       "      <td>-0.166634</td>\n",
       "      <td>-1.537800</td>\n",
       "      <td>0.165611</td>\n",
       "      <td>-0.509041</td>\n",
       "      <td>-0.539266</td>\n",
       "    </tr>\n",
       "    <tr>\n",
       "      <th>2020-03-04</th>\n",
       "      <td>-0.611977</td>\n",
       "      <td>-0.558939</td>\n",
       "      <td>0.269462</td>\n",
       "      <td>0.207877</td>\n",
       "      <td>0.604916</td>\n",
       "    </tr>\n",
       "    <tr>\n",
       "      <th>2020-03-05</th>\n",
       "      <td>0.169849</td>\n",
       "      <td>-0.424693</td>\n",
       "      <td>-1.074170</td>\n",
       "      <td>-0.869344</td>\n",
       "      <td>0.138637</td>\n",
       "    </tr>\n",
       "  </tbody>\n",
       "</table>\n",
       "</div>"
      ],
      "text/plain": [
       "                   A         B         C         D         E\n",
       "2020-03-01 -1.342160 -0.626414 -0.943683  0.046141  1.035746\n",
       "2020-03-02 -0.126549 -0.528536 -1.016041 -1.390017  1.228016\n",
       "2020-03-03 -0.166634 -1.537800  0.165611 -0.509041 -0.539266\n",
       "2020-03-04 -0.611977 -0.558939  0.269462  0.207877  0.604916\n",
       "2020-03-05  0.169849 -0.424693 -1.074170 -0.869344  0.138637"
      ]
     },
     "execution_count": 12,
     "metadata": {},
     "output_type": "execute_result"
    }
   ],
   "source": [
    "df.head()"
   ]
  },
  {
   "cell_type": "code",
   "execution_count": 13,
   "metadata": {},
   "outputs": [
    {
     "data": {
      "text/html": [
       "<div>\n",
       "<style scoped>\n",
       "    .dataframe tbody tr th:only-of-type {\n",
       "        vertical-align: middle;\n",
       "    }\n",
       "\n",
       "    .dataframe tbody tr th {\n",
       "        vertical-align: top;\n",
       "    }\n",
       "\n",
       "    .dataframe thead th {\n",
       "        text-align: right;\n",
       "    }\n",
       "</style>\n",
       "<table border=\"1\" class=\"dataframe\">\n",
       "  <thead>\n",
       "    <tr style=\"text-align: right;\">\n",
       "      <th></th>\n",
       "      <th>A</th>\n",
       "      <th>B</th>\n",
       "      <th>C</th>\n",
       "      <th>D</th>\n",
       "      <th>E</th>\n",
       "    </tr>\n",
       "  </thead>\n",
       "  <tbody>\n",
       "    <tr>\n",
       "      <th>2020-03-06</th>\n",
       "      <td>-0.872186</td>\n",
       "      <td>-0.419077</td>\n",
       "      <td>-1.035033</td>\n",
       "      <td>0.276446</td>\n",
       "      <td>0.245909</td>\n",
       "    </tr>\n",
       "    <tr>\n",
       "      <th>2020-03-07</th>\n",
       "      <td>-0.419647</td>\n",
       "      <td>1.486364</td>\n",
       "      <td>0.108750</td>\n",
       "      <td>1.201319</td>\n",
       "      <td>-0.894056</td>\n",
       "    </tr>\n",
       "    <tr>\n",
       "      <th>2020-03-08</th>\n",
       "      <td>0.701300</td>\n",
       "      <td>-0.039313</td>\n",
       "      <td>-0.738982</td>\n",
       "      <td>-1.021938</td>\n",
       "      <td>-0.087560</td>\n",
       "    </tr>\n",
       "    <tr>\n",
       "      <th>2020-03-09</th>\n",
       "      <td>0.997910</td>\n",
       "      <td>0.951180</td>\n",
       "      <td>0.012570</td>\n",
       "      <td>-0.803728</td>\n",
       "      <td>-1.317067</td>\n",
       "    </tr>\n",
       "    <tr>\n",
       "      <th>2020-03-10</th>\n",
       "      <td>0.088607</td>\n",
       "      <td>1.032138</td>\n",
       "      <td>1.421043</td>\n",
       "      <td>0.724866</td>\n",
       "      <td>-0.609651</td>\n",
       "    </tr>\n",
       "  </tbody>\n",
       "</table>\n",
       "</div>"
      ],
      "text/plain": [
       "                   A         B         C         D         E\n",
       "2020-03-06 -0.872186 -0.419077 -1.035033  0.276446  0.245909\n",
       "2020-03-07 -0.419647  1.486364  0.108750  1.201319 -0.894056\n",
       "2020-03-08  0.701300 -0.039313 -0.738982 -1.021938 -0.087560\n",
       "2020-03-09  0.997910  0.951180  0.012570 -0.803728 -1.317067\n",
       "2020-03-10  0.088607  1.032138  1.421043  0.724866 -0.609651"
      ]
     },
     "execution_count": 13,
     "metadata": {},
     "output_type": "execute_result"
    }
   ],
   "source": [
    "df.tail()"
   ]
  },
  {
   "cell_type": "code",
   "execution_count": 14,
   "metadata": {},
   "outputs": [
    {
     "data": {
      "text/plain": [
       "DatetimeIndex(['2020-03-01', '2020-03-02', '2020-03-03', '2020-03-04',\n",
       "               '2020-03-05', '2020-03-06', '2020-03-07', '2020-03-08',\n",
       "               '2020-03-09', '2020-03-10'],\n",
       "              dtype='datetime64[ns]', freq='D')"
      ]
     },
     "execution_count": 14,
     "metadata": {},
     "output_type": "execute_result"
    }
   ],
   "source": [
    "df.index"
   ]
  },
  {
   "cell_type": "code",
   "execution_count": 15,
   "metadata": {},
   "outputs": [
    {
     "data": {
      "text/plain": [
       "Index(['A', 'B', 'C', 'D', 'E'], dtype='object')"
      ]
     },
     "execution_count": 15,
     "metadata": {},
     "output_type": "execute_result"
    }
   ],
   "source": [
    "df.columns"
   ]
  },
  {
   "cell_type": "code",
   "execution_count": 16,
   "metadata": {},
   "outputs": [
    {
     "data": {
      "text/plain": [
       "array([[-1.34216018, -0.62641424, -0.94368306,  0.04614125,  1.03574649],\n",
       "       [-0.12654929, -0.52853613, -1.01604075, -1.39001732,  1.22801575],\n",
       "       [-0.16663417, -1.5378003 ,  0.16561088, -0.50904121, -0.53926589],\n",
       "       [-0.61197666, -0.55893874,  0.26946178,  0.2078774 ,  0.60491648],\n",
       "       [ 0.16984906, -0.42469279, -1.07417047, -0.86934429,  0.13863733],\n",
       "       [-0.87218611, -0.41907675, -1.03503309,  0.27644582,  0.24590892],\n",
       "       [-0.41964695,  1.48636376,  0.1087499 ,  1.20131946, -0.89405593],\n",
       "       [ 0.7013003 , -0.03931298, -0.73898178, -1.02193788, -0.08756028],\n",
       "       [ 0.99791013,  0.9511803 ,  0.0125695 , -0.80372773, -1.3170669 ],\n",
       "       [ 0.08860671,  1.032138  ,  1.42104302,  0.72486639, -0.60965128]])"
      ]
     },
     "execution_count": 16,
     "metadata": {},
     "output_type": "execute_result"
    }
   ],
   "source": [
    "df.to_numpy()"
   ]
  },
  {
   "cell_type": "code",
   "execution_count": 17,
   "metadata": {},
   "outputs": [
    {
     "data": {
      "text/html": [
       "<div>\n",
       "<style scoped>\n",
       "    .dataframe tbody tr th:only-of-type {\n",
       "        vertical-align: middle;\n",
       "    }\n",
       "\n",
       "    .dataframe tbody tr th {\n",
       "        vertical-align: top;\n",
       "    }\n",
       "\n",
       "    .dataframe thead th {\n",
       "        text-align: right;\n",
       "    }\n",
       "</style>\n",
       "<table border=\"1\" class=\"dataframe\">\n",
       "  <thead>\n",
       "    <tr style=\"text-align: right;\">\n",
       "      <th></th>\n",
       "      <th>A</th>\n",
       "      <th>B</th>\n",
       "      <th>C</th>\n",
       "      <th>D</th>\n",
       "      <th>E</th>\n",
       "    </tr>\n",
       "  </thead>\n",
       "  <tbody>\n",
       "    <tr>\n",
       "      <th>count</th>\n",
       "      <td>10.000000</td>\n",
       "      <td>10.000000</td>\n",
       "      <td>10.000000</td>\n",
       "      <td>10.000000</td>\n",
       "      <td>10.000000</td>\n",
       "    </tr>\n",
       "    <tr>\n",
       "      <th>mean</th>\n",
       "      <td>-0.158149</td>\n",
       "      <td>-0.066509</td>\n",
       "      <td>-0.283047</td>\n",
       "      <td>-0.213742</td>\n",
       "      <td>-0.019438</td>\n",
       "    </tr>\n",
       "    <tr>\n",
       "      <th>std</th>\n",
       "      <td>0.701644</td>\n",
       "      <td>0.933430</td>\n",
       "      <td>0.818151</td>\n",
       "      <td>0.834724</td>\n",
       "      <td>0.831784</td>\n",
       "    </tr>\n",
       "    <tr>\n",
       "      <th>min</th>\n",
       "      <td>-1.342160</td>\n",
       "      <td>-1.537800</td>\n",
       "      <td>-1.074170</td>\n",
       "      <td>-1.390017</td>\n",
       "      <td>-1.317067</td>\n",
       "    </tr>\n",
       "    <tr>\n",
       "      <th>25%</th>\n",
       "      <td>-0.563894</td>\n",
       "      <td>-0.551338</td>\n",
       "      <td>-0.997951</td>\n",
       "      <td>-0.852940</td>\n",
       "      <td>-0.592055</td>\n",
       "    </tr>\n",
       "    <tr>\n",
       "      <th>50%</th>\n",
       "      <td>-0.146592</td>\n",
       "      <td>-0.421885</td>\n",
       "      <td>-0.363206</td>\n",
       "      <td>-0.231450</td>\n",
       "      <td>0.025539</td>\n",
       "    </tr>\n",
       "    <tr>\n",
       "      <th>75%</th>\n",
       "      <td>0.149538</td>\n",
       "      <td>0.703557</td>\n",
       "      <td>0.151396</td>\n",
       "      <td>0.259304</td>\n",
       "      <td>0.515165</td>\n",
       "    </tr>\n",
       "    <tr>\n",
       "      <th>max</th>\n",
       "      <td>0.997910</td>\n",
       "      <td>1.486364</td>\n",
       "      <td>1.421043</td>\n",
       "      <td>1.201319</td>\n",
       "      <td>1.228016</td>\n",
       "    </tr>\n",
       "  </tbody>\n",
       "</table>\n",
       "</div>"
      ],
      "text/plain": [
       "               A          B          C          D          E\n",
       "count  10.000000  10.000000  10.000000  10.000000  10.000000\n",
       "mean   -0.158149  -0.066509  -0.283047  -0.213742  -0.019438\n",
       "std     0.701644   0.933430   0.818151   0.834724   0.831784\n",
       "min    -1.342160  -1.537800  -1.074170  -1.390017  -1.317067\n",
       "25%    -0.563894  -0.551338  -0.997951  -0.852940  -0.592055\n",
       "50%    -0.146592  -0.421885  -0.363206  -0.231450   0.025539\n",
       "75%     0.149538   0.703557   0.151396   0.259304   0.515165\n",
       "max     0.997910   1.486364   1.421043   1.201319   1.228016"
      ]
     },
     "execution_count": 17,
     "metadata": {},
     "output_type": "execute_result"
    }
   ],
   "source": [
    "df.describe()"
   ]
  },
  {
   "cell_type": "code",
   "execution_count": 18,
   "metadata": {},
   "outputs": [
    {
     "data": {
      "text/html": [
       "<div>\n",
       "<style scoped>\n",
       "    .dataframe tbody tr th:only-of-type {\n",
       "        vertical-align: middle;\n",
       "    }\n",
       "\n",
       "    .dataframe tbody tr th {\n",
       "        vertical-align: top;\n",
       "    }\n",
       "\n",
       "    .dataframe thead th {\n",
       "        text-align: right;\n",
       "    }\n",
       "</style>\n",
       "<table border=\"1\" class=\"dataframe\">\n",
       "  <thead>\n",
       "    <tr style=\"text-align: right;\">\n",
       "      <th></th>\n",
       "      <th>E</th>\n",
       "      <th>D</th>\n",
       "      <th>C</th>\n",
       "      <th>B</th>\n",
       "      <th>A</th>\n",
       "    </tr>\n",
       "  </thead>\n",
       "  <tbody>\n",
       "    <tr>\n",
       "      <th>2020-03-01</th>\n",
       "      <td>1.035746</td>\n",
       "      <td>0.046141</td>\n",
       "      <td>-0.943683</td>\n",
       "      <td>-0.626414</td>\n",
       "      <td>-1.342160</td>\n",
       "    </tr>\n",
       "    <tr>\n",
       "      <th>2020-03-02</th>\n",
       "      <td>1.228016</td>\n",
       "      <td>-1.390017</td>\n",
       "      <td>-1.016041</td>\n",
       "      <td>-0.528536</td>\n",
       "      <td>-0.126549</td>\n",
       "    </tr>\n",
       "    <tr>\n",
       "      <th>2020-03-03</th>\n",
       "      <td>-0.539266</td>\n",
       "      <td>-0.509041</td>\n",
       "      <td>0.165611</td>\n",
       "      <td>-1.537800</td>\n",
       "      <td>-0.166634</td>\n",
       "    </tr>\n",
       "    <tr>\n",
       "      <th>2020-03-04</th>\n",
       "      <td>0.604916</td>\n",
       "      <td>0.207877</td>\n",
       "      <td>0.269462</td>\n",
       "      <td>-0.558939</td>\n",
       "      <td>-0.611977</td>\n",
       "    </tr>\n",
       "    <tr>\n",
       "      <th>2020-03-05</th>\n",
       "      <td>0.138637</td>\n",
       "      <td>-0.869344</td>\n",
       "      <td>-1.074170</td>\n",
       "      <td>-0.424693</td>\n",
       "      <td>0.169849</td>\n",
       "    </tr>\n",
       "    <tr>\n",
       "      <th>2020-03-06</th>\n",
       "      <td>0.245909</td>\n",
       "      <td>0.276446</td>\n",
       "      <td>-1.035033</td>\n",
       "      <td>-0.419077</td>\n",
       "      <td>-0.872186</td>\n",
       "    </tr>\n",
       "    <tr>\n",
       "      <th>2020-03-07</th>\n",
       "      <td>-0.894056</td>\n",
       "      <td>1.201319</td>\n",
       "      <td>0.108750</td>\n",
       "      <td>1.486364</td>\n",
       "      <td>-0.419647</td>\n",
       "    </tr>\n",
       "    <tr>\n",
       "      <th>2020-03-08</th>\n",
       "      <td>-0.087560</td>\n",
       "      <td>-1.021938</td>\n",
       "      <td>-0.738982</td>\n",
       "      <td>-0.039313</td>\n",
       "      <td>0.701300</td>\n",
       "    </tr>\n",
       "    <tr>\n",
       "      <th>2020-03-09</th>\n",
       "      <td>-1.317067</td>\n",
       "      <td>-0.803728</td>\n",
       "      <td>0.012570</td>\n",
       "      <td>0.951180</td>\n",
       "      <td>0.997910</td>\n",
       "    </tr>\n",
       "    <tr>\n",
       "      <th>2020-03-10</th>\n",
       "      <td>-0.609651</td>\n",
       "      <td>0.724866</td>\n",
       "      <td>1.421043</td>\n",
       "      <td>1.032138</td>\n",
       "      <td>0.088607</td>\n",
       "    </tr>\n",
       "  </tbody>\n",
       "</table>\n",
       "</div>"
      ],
      "text/plain": [
       "                   E         D         C         B         A\n",
       "2020-03-01  1.035746  0.046141 -0.943683 -0.626414 -1.342160\n",
       "2020-03-02  1.228016 -1.390017 -1.016041 -0.528536 -0.126549\n",
       "2020-03-03 -0.539266 -0.509041  0.165611 -1.537800 -0.166634\n",
       "2020-03-04  0.604916  0.207877  0.269462 -0.558939 -0.611977\n",
       "2020-03-05  0.138637 -0.869344 -1.074170 -0.424693  0.169849\n",
       "2020-03-06  0.245909  0.276446 -1.035033 -0.419077 -0.872186\n",
       "2020-03-07 -0.894056  1.201319  0.108750  1.486364 -0.419647\n",
       "2020-03-08 -0.087560 -1.021938 -0.738982 -0.039313  0.701300\n",
       "2020-03-09 -1.317067 -0.803728  0.012570  0.951180  0.997910\n",
       "2020-03-10 -0.609651  0.724866  1.421043  1.032138  0.088607"
      ]
     },
     "execution_count": 18,
     "metadata": {},
     "output_type": "execute_result"
    }
   ],
   "source": [
    "df.sort_index(axis=1, ascending = False)"
   ]
  },
  {
   "cell_type": "code",
   "execution_count": 20,
   "metadata": {},
   "outputs": [
    {
     "data": {
      "text/html": [
       "<div>\n",
       "<style scoped>\n",
       "    .dataframe tbody tr th:only-of-type {\n",
       "        vertical-align: middle;\n",
       "    }\n",
       "\n",
       "    .dataframe tbody tr th {\n",
       "        vertical-align: top;\n",
       "    }\n",
       "\n",
       "    .dataframe thead th {\n",
       "        text-align: right;\n",
       "    }\n",
       "</style>\n",
       "<table border=\"1\" class=\"dataframe\">\n",
       "  <thead>\n",
       "    <tr style=\"text-align: right;\">\n",
       "      <th></th>\n",
       "      <th>A</th>\n",
       "      <th>B</th>\n",
       "      <th>C</th>\n",
       "      <th>D</th>\n",
       "      <th>E</th>\n",
       "    </tr>\n",
       "  </thead>\n",
       "  <tbody>\n",
       "    <tr>\n",
       "      <th>2020-03-05</th>\n",
       "      <td>0.169849</td>\n",
       "      <td>-0.424693</td>\n",
       "      <td>-1.074170</td>\n",
       "      <td>-0.869344</td>\n",
       "      <td>0.138637</td>\n",
       "    </tr>\n",
       "    <tr>\n",
       "      <th>2020-03-06</th>\n",
       "      <td>-0.872186</td>\n",
       "      <td>-0.419077</td>\n",
       "      <td>-1.035033</td>\n",
       "      <td>0.276446</td>\n",
       "      <td>0.245909</td>\n",
       "    </tr>\n",
       "    <tr>\n",
       "      <th>2020-03-02</th>\n",
       "      <td>-0.126549</td>\n",
       "      <td>-0.528536</td>\n",
       "      <td>-1.016041</td>\n",
       "      <td>-1.390017</td>\n",
       "      <td>1.228016</td>\n",
       "    </tr>\n",
       "    <tr>\n",
       "      <th>2020-03-01</th>\n",
       "      <td>-1.342160</td>\n",
       "      <td>-0.626414</td>\n",
       "      <td>-0.943683</td>\n",
       "      <td>0.046141</td>\n",
       "      <td>1.035746</td>\n",
       "    </tr>\n",
       "    <tr>\n",
       "      <th>2020-03-08</th>\n",
       "      <td>0.701300</td>\n",
       "      <td>-0.039313</td>\n",
       "      <td>-0.738982</td>\n",
       "      <td>-1.021938</td>\n",
       "      <td>-0.087560</td>\n",
       "    </tr>\n",
       "    <tr>\n",
       "      <th>2020-03-09</th>\n",
       "      <td>0.997910</td>\n",
       "      <td>0.951180</td>\n",
       "      <td>0.012570</td>\n",
       "      <td>-0.803728</td>\n",
       "      <td>-1.317067</td>\n",
       "    </tr>\n",
       "    <tr>\n",
       "      <th>2020-03-07</th>\n",
       "      <td>-0.419647</td>\n",
       "      <td>1.486364</td>\n",
       "      <td>0.108750</td>\n",
       "      <td>1.201319</td>\n",
       "      <td>-0.894056</td>\n",
       "    </tr>\n",
       "    <tr>\n",
       "      <th>2020-03-03</th>\n",
       "      <td>-0.166634</td>\n",
       "      <td>-1.537800</td>\n",
       "      <td>0.165611</td>\n",
       "      <td>-0.509041</td>\n",
       "      <td>-0.539266</td>\n",
       "    </tr>\n",
       "    <tr>\n",
       "      <th>2020-03-04</th>\n",
       "      <td>-0.611977</td>\n",
       "      <td>-0.558939</td>\n",
       "      <td>0.269462</td>\n",
       "      <td>0.207877</td>\n",
       "      <td>0.604916</td>\n",
       "    </tr>\n",
       "    <tr>\n",
       "      <th>2020-03-10</th>\n",
       "      <td>0.088607</td>\n",
       "      <td>1.032138</td>\n",
       "      <td>1.421043</td>\n",
       "      <td>0.724866</td>\n",
       "      <td>-0.609651</td>\n",
       "    </tr>\n",
       "  </tbody>\n",
       "</table>\n",
       "</div>"
      ],
      "text/plain": [
       "                   A         B         C         D         E\n",
       "2020-03-05  0.169849 -0.424693 -1.074170 -0.869344  0.138637\n",
       "2020-03-06 -0.872186 -0.419077 -1.035033  0.276446  0.245909\n",
       "2020-03-02 -0.126549 -0.528536 -1.016041 -1.390017  1.228016\n",
       "2020-03-01 -1.342160 -0.626414 -0.943683  0.046141  1.035746\n",
       "2020-03-08  0.701300 -0.039313 -0.738982 -1.021938 -0.087560\n",
       "2020-03-09  0.997910  0.951180  0.012570 -0.803728 -1.317067\n",
       "2020-03-07 -0.419647  1.486364  0.108750  1.201319 -0.894056\n",
       "2020-03-03 -0.166634 -1.537800  0.165611 -0.509041 -0.539266\n",
       "2020-03-04 -0.611977 -0.558939  0.269462  0.207877  0.604916\n",
       "2020-03-10  0.088607  1.032138  1.421043  0.724866 -0.609651"
      ]
     },
     "execution_count": 20,
     "metadata": {},
     "output_type": "execute_result"
    }
   ],
   "source": [
    "df.sort_values(by='C')"
   ]
  },
  {
   "cell_type": "code",
   "execution_count": 21,
   "metadata": {},
   "outputs": [
    {
     "data": {
      "text/plain": [
       "2020-03-01   -1.342160\n",
       "2020-03-02   -0.126549\n",
       "2020-03-03   -0.166634\n",
       "2020-03-04   -0.611977\n",
       "2020-03-05    0.169849\n",
       "2020-03-06   -0.872186\n",
       "2020-03-07   -0.419647\n",
       "2020-03-08    0.701300\n",
       "2020-03-09    0.997910\n",
       "2020-03-10    0.088607\n",
       "Freq: D, Name: A, dtype: float64"
      ]
     },
     "execution_count": 21,
     "metadata": {},
     "output_type": "execute_result"
    }
   ],
   "source": [
    "df['A']"
   ]
  },
  {
   "cell_type": "code",
   "execution_count": 22,
   "metadata": {},
   "outputs": [
    {
     "data": {
      "text/html": [
       "<div>\n",
       "<style scoped>\n",
       "    .dataframe tbody tr th:only-of-type {\n",
       "        vertical-align: middle;\n",
       "    }\n",
       "\n",
       "    .dataframe tbody tr th {\n",
       "        vertical-align: top;\n",
       "    }\n",
       "\n",
       "    .dataframe thead th {\n",
       "        text-align: right;\n",
       "    }\n",
       "</style>\n",
       "<table border=\"1\" class=\"dataframe\">\n",
       "  <thead>\n",
       "    <tr style=\"text-align: right;\">\n",
       "      <th></th>\n",
       "      <th>A</th>\n",
       "      <th>B</th>\n",
       "      <th>C</th>\n",
       "      <th>D</th>\n",
       "      <th>E</th>\n",
       "    </tr>\n",
       "  </thead>\n",
       "  <tbody>\n",
       "    <tr>\n",
       "      <th>2020-03-01</th>\n",
       "      <td>-1.342160</td>\n",
       "      <td>-0.626414</td>\n",
       "      <td>-0.943683</td>\n",
       "      <td>0.046141</td>\n",
       "      <td>1.035746</td>\n",
       "    </tr>\n",
       "    <tr>\n",
       "      <th>2020-03-02</th>\n",
       "      <td>-0.126549</td>\n",
       "      <td>-0.528536</td>\n",
       "      <td>-1.016041</td>\n",
       "      <td>-1.390017</td>\n",
       "      <td>1.228016</td>\n",
       "    </tr>\n",
       "    <tr>\n",
       "      <th>2020-03-03</th>\n",
       "      <td>-0.166634</td>\n",
       "      <td>-1.537800</td>\n",
       "      <td>0.165611</td>\n",
       "      <td>-0.509041</td>\n",
       "      <td>-0.539266</td>\n",
       "    </tr>\n",
       "    <tr>\n",
       "      <th>2020-03-04</th>\n",
       "      <td>-0.611977</td>\n",
       "      <td>-0.558939</td>\n",
       "      <td>0.269462</td>\n",
       "      <td>0.207877</td>\n",
       "      <td>0.604916</td>\n",
       "    </tr>\n",
       "    <tr>\n",
       "      <th>2020-03-05</th>\n",
       "      <td>0.169849</td>\n",
       "      <td>-0.424693</td>\n",
       "      <td>-1.074170</td>\n",
       "      <td>-0.869344</td>\n",
       "      <td>0.138637</td>\n",
       "    </tr>\n",
       "    <tr>\n",
       "      <th>2020-03-06</th>\n",
       "      <td>-0.872186</td>\n",
       "      <td>-0.419077</td>\n",
       "      <td>-1.035033</td>\n",
       "      <td>0.276446</td>\n",
       "      <td>0.245909</td>\n",
       "    </tr>\n",
       "    <tr>\n",
       "      <th>2020-03-07</th>\n",
       "      <td>-0.419647</td>\n",
       "      <td>1.486364</td>\n",
       "      <td>0.108750</td>\n",
       "      <td>1.201319</td>\n",
       "      <td>-0.894056</td>\n",
       "    </tr>\n",
       "    <tr>\n",
       "      <th>2020-03-08</th>\n",
       "      <td>0.701300</td>\n",
       "      <td>-0.039313</td>\n",
       "      <td>-0.738982</td>\n",
       "      <td>-1.021938</td>\n",
       "      <td>-0.087560</td>\n",
       "    </tr>\n",
       "    <tr>\n",
       "      <th>2020-03-09</th>\n",
       "      <td>0.997910</td>\n",
       "      <td>0.951180</td>\n",
       "      <td>0.012570</td>\n",
       "      <td>-0.803728</td>\n",
       "      <td>-1.317067</td>\n",
       "    </tr>\n",
       "    <tr>\n",
       "      <th>2020-03-10</th>\n",
       "      <td>0.088607</td>\n",
       "      <td>1.032138</td>\n",
       "      <td>1.421043</td>\n",
       "      <td>0.724866</td>\n",
       "      <td>-0.609651</td>\n",
       "    </tr>\n",
       "  </tbody>\n",
       "</table>\n",
       "</div>"
      ],
      "text/plain": [
       "                   A         B         C         D         E\n",
       "2020-03-01 -1.342160 -0.626414 -0.943683  0.046141  1.035746\n",
       "2020-03-02 -0.126549 -0.528536 -1.016041 -1.390017  1.228016\n",
       "2020-03-03 -0.166634 -1.537800  0.165611 -0.509041 -0.539266\n",
       "2020-03-04 -0.611977 -0.558939  0.269462  0.207877  0.604916\n",
       "2020-03-05  0.169849 -0.424693 -1.074170 -0.869344  0.138637\n",
       "2020-03-06 -0.872186 -0.419077 -1.035033  0.276446  0.245909\n",
       "2020-03-07 -0.419647  1.486364  0.108750  1.201319 -0.894056\n",
       "2020-03-08  0.701300 -0.039313 -0.738982 -1.021938 -0.087560\n",
       "2020-03-09  0.997910  0.951180  0.012570 -0.803728 -1.317067\n",
       "2020-03-10  0.088607  1.032138  1.421043  0.724866 -0.609651"
      ]
     },
     "execution_count": 22,
     "metadata": {},
     "output_type": "execute_result"
    }
   ],
   "source": [
    "df"
   ]
  },
  {
   "cell_type": "code",
   "execution_count": 24,
   "metadata": {},
   "outputs": [
    {
     "data": {
      "text/plain": [
       "A   -1.342160\n",
       "B   -0.626414\n",
       "C   -0.943683\n",
       "D    0.046141\n",
       "E    1.035746\n",
       "Name: 2020-03-01 00:00:00, dtype: float64"
      ]
     },
     "execution_count": 24,
     "metadata": {},
     "output_type": "execute_result"
    }
   ],
   "source": [
    "df.loc['20200301']"
   ]
  },
  {
   "cell_type": "code",
   "execution_count": 25,
   "metadata": {},
   "outputs": [
    {
     "data": {
      "text/html": [
       "<div>\n",
       "<style scoped>\n",
       "    .dataframe tbody tr th:only-of-type {\n",
       "        vertical-align: middle;\n",
       "    }\n",
       "\n",
       "    .dataframe tbody tr th {\n",
       "        vertical-align: top;\n",
       "    }\n",
       "\n",
       "    .dataframe thead th {\n",
       "        text-align: right;\n",
       "    }\n",
       "</style>\n",
       "<table border=\"1\" class=\"dataframe\">\n",
       "  <thead>\n",
       "    <tr style=\"text-align: right;\">\n",
       "      <th></th>\n",
       "      <th>A</th>\n",
       "      <th>B</th>\n",
       "      <th>C</th>\n",
       "      <th>D</th>\n",
       "      <th>E</th>\n",
       "    </tr>\n",
       "  </thead>\n",
       "  <tbody>\n",
       "    <tr>\n",
       "      <th>2020-03-01</th>\n",
       "      <td>-1.342160</td>\n",
       "      <td>-0.626414</td>\n",
       "      <td>-0.943683</td>\n",
       "      <td>0.046141</td>\n",
       "      <td>1.035746</td>\n",
       "    </tr>\n",
       "    <tr>\n",
       "      <th>2020-03-02</th>\n",
       "      <td>-0.126549</td>\n",
       "      <td>-0.528536</td>\n",
       "      <td>-1.016041</td>\n",
       "      <td>-1.390017</td>\n",
       "      <td>1.228016</td>\n",
       "    </tr>\n",
       "    <tr>\n",
       "      <th>2020-03-03</th>\n",
       "      <td>-0.166634</td>\n",
       "      <td>-1.537800</td>\n",
       "      <td>0.165611</td>\n",
       "      <td>-0.509041</td>\n",
       "      <td>-0.539266</td>\n",
       "    </tr>\n",
       "  </tbody>\n",
       "</table>\n",
       "</div>"
      ],
      "text/plain": [
       "                   A         B         C         D         E\n",
       "2020-03-01 -1.342160 -0.626414 -0.943683  0.046141  1.035746\n",
       "2020-03-02 -0.126549 -0.528536 -1.016041 -1.390017  1.228016\n",
       "2020-03-03 -0.166634 -1.537800  0.165611 -0.509041 -0.539266"
      ]
     },
     "execution_count": 25,
     "metadata": {},
     "output_type": "execute_result"
    }
   ],
   "source": [
    "df[0:3]"
   ]
  },
  {
   "cell_type": "code",
   "execution_count": 26,
   "metadata": {},
   "outputs": [
    {
     "data": {
      "text/plain": [
       "A   -1.342160\n",
       "B   -0.626414\n",
       "C   -0.943683\n",
       "D    0.046141\n",
       "E    1.035746\n",
       "Name: 2020-03-01 00:00:00, dtype: float64"
      ]
     },
     "execution_count": 26,
     "metadata": {},
     "output_type": "execute_result"
    }
   ],
   "source": [
    "df.loc[d[0]]"
   ]
  },
  {
   "cell_type": "code",
   "execution_count": 34,
   "metadata": {},
   "outputs": [
    {
     "data": {
      "text/html": [
       "<div>\n",
       "<style scoped>\n",
       "    .dataframe tbody tr th:only-of-type {\n",
       "        vertical-align: middle;\n",
       "    }\n",
       "\n",
       "    .dataframe tbody tr th {\n",
       "        vertical-align: top;\n",
       "    }\n",
       "\n",
       "    .dataframe thead th {\n",
       "        text-align: right;\n",
       "    }\n",
       "</style>\n",
       "<table border=\"1\" class=\"dataframe\">\n",
       "  <thead>\n",
       "    <tr style=\"text-align: right;\">\n",
       "      <th></th>\n",
       "      <th>A</th>\n",
       "      <th>C</th>\n",
       "    </tr>\n",
       "  </thead>\n",
       "  <tbody>\n",
       "    <tr>\n",
       "      <th>2020-03-01</th>\n",
       "      <td>-1.342160</td>\n",
       "      <td>-0.943683</td>\n",
       "    </tr>\n",
       "    <tr>\n",
       "      <th>2020-03-02</th>\n",
       "      <td>-0.126549</td>\n",
       "      <td>-1.016041</td>\n",
       "    </tr>\n",
       "    <tr>\n",
       "      <th>2020-03-03</th>\n",
       "      <td>-0.166634</td>\n",
       "      <td>0.165611</td>\n",
       "    </tr>\n",
       "    <tr>\n",
       "      <th>2020-03-04</th>\n",
       "      <td>-0.611977</td>\n",
       "      <td>0.269462</td>\n",
       "    </tr>\n",
       "    <tr>\n",
       "      <th>2020-03-05</th>\n",
       "      <td>0.169849</td>\n",
       "      <td>-1.074170</td>\n",
       "    </tr>\n",
       "  </tbody>\n",
       "</table>\n",
       "</div>"
      ],
      "text/plain": [
       "                   A         C\n",
       "2020-03-01 -1.342160 -0.943683\n",
       "2020-03-02 -0.126549 -1.016041\n",
       "2020-03-03 -0.166634  0.165611\n",
       "2020-03-04 -0.611977  0.269462\n",
       "2020-03-05  0.169849 -1.074170"
      ]
     },
     "execution_count": 34,
     "metadata": {},
     "output_type": "execute_result"
    }
   ],
   "source": [
    "df.loc['2020-03-01':'2020-03-05',['A','C']]"
   ]
  },
  {
   "cell_type": "code",
   "execution_count": 33,
   "metadata": {},
   "outputs": [
    {
     "data": {
      "text/plain": [
       "A    0.169849\n",
       "C   -1.074170\n",
       "Name: 2020-03-05 00:00:00, dtype: float64"
      ]
     },
     "execution_count": 33,
     "metadata": {},
     "output_type": "execute_result"
    }
   ],
   "source": [
    "df.loc['2020-03-05',['A','C']]"
   ]
  },
  {
   "cell_type": "code",
   "execution_count": 35,
   "metadata": {},
   "outputs": [
    {
     "data": {
      "text/plain": [
       "-0.9436830555796842"
      ]
     },
     "execution_count": 35,
     "metadata": {},
     "output_type": "execute_result"
    }
   ],
   "source": [
    "df.at[d[0],'C']"
   ]
  },
  {
   "cell_type": "code",
   "execution_count": 36,
   "metadata": {},
   "outputs": [
    {
     "data": {
      "text/plain": [
       "A   -0.611977\n",
       "B   -0.558939\n",
       "C    0.269462\n",
       "D    0.207877\n",
       "E    0.604916\n",
       "Name: 2020-03-04 00:00:00, dtype: float64"
      ]
     },
     "execution_count": 36,
     "metadata": {},
     "output_type": "execute_result"
    }
   ],
   "source": [
    "df.iloc[3]"
   ]
  },
  {
   "cell_type": "code",
   "execution_count": 37,
   "metadata": {},
   "outputs": [
    {
     "data": {
      "text/html": [
       "<div>\n",
       "<style scoped>\n",
       "    .dataframe tbody tr th:only-of-type {\n",
       "        vertical-align: middle;\n",
       "    }\n",
       "\n",
       "    .dataframe tbody tr th {\n",
       "        vertical-align: top;\n",
       "    }\n",
       "\n",
       "    .dataframe thead th {\n",
       "        text-align: right;\n",
       "    }\n",
       "</style>\n",
       "<table border=\"1\" class=\"dataframe\">\n",
       "  <thead>\n",
       "    <tr style=\"text-align: right;\">\n",
       "      <th></th>\n",
       "      <th>A</th>\n",
       "      <th>B</th>\n",
       "    </tr>\n",
       "  </thead>\n",
       "  <tbody>\n",
       "    <tr>\n",
       "      <th>2020-03-04</th>\n",
       "      <td>-0.611977</td>\n",
       "      <td>-0.558939</td>\n",
       "    </tr>\n",
       "    <tr>\n",
       "      <th>2020-03-05</th>\n",
       "      <td>0.169849</td>\n",
       "      <td>-0.424693</td>\n",
       "    </tr>\n",
       "  </tbody>\n",
       "</table>\n",
       "</div>"
      ],
      "text/plain": [
       "                   A         B\n",
       "2020-03-04 -0.611977 -0.558939\n",
       "2020-03-05  0.169849 -0.424693"
      ]
     },
     "execution_count": 37,
     "metadata": {},
     "output_type": "execute_result"
    }
   ],
   "source": [
    "df.iloc[3:5 , 0:2]"
   ]
  },
  {
   "cell_type": "code",
   "execution_count": 40,
   "metadata": {},
   "outputs": [
    {
     "data": {
      "text/html": [
       "<div>\n",
       "<style scoped>\n",
       "    .dataframe tbody tr th:only-of-type {\n",
       "        vertical-align: middle;\n",
       "    }\n",
       "\n",
       "    .dataframe tbody tr th {\n",
       "        vertical-align: top;\n",
       "    }\n",
       "\n",
       "    .dataframe thead th {\n",
       "        text-align: right;\n",
       "    }\n",
       "</style>\n",
       "<table border=\"1\" class=\"dataframe\">\n",
       "  <thead>\n",
       "    <tr style=\"text-align: right;\">\n",
       "      <th></th>\n",
       "      <th>A</th>\n",
       "      <th>B</th>\n",
       "      <th>C</th>\n",
       "      <th>D</th>\n",
       "      <th>E</th>\n",
       "    </tr>\n",
       "  </thead>\n",
       "  <tbody>\n",
       "    <tr>\n",
       "      <th>2020-03-07</th>\n",
       "      <td>-0.419647</td>\n",
       "      <td>1.486364</td>\n",
       "      <td>0.108750</td>\n",
       "      <td>1.201319</td>\n",
       "      <td>-0.894056</td>\n",
       "    </tr>\n",
       "    <tr>\n",
       "      <th>2020-03-09</th>\n",
       "      <td>0.997910</td>\n",
       "      <td>0.951180</td>\n",
       "      <td>0.012570</td>\n",
       "      <td>-0.803728</td>\n",
       "      <td>-1.317067</td>\n",
       "    </tr>\n",
       "    <tr>\n",
       "      <th>2020-03-10</th>\n",
       "      <td>0.088607</td>\n",
       "      <td>1.032138</td>\n",
       "      <td>1.421043</td>\n",
       "      <td>0.724866</td>\n",
       "      <td>-0.609651</td>\n",
       "    </tr>\n",
       "  </tbody>\n",
       "</table>\n",
       "</div>"
      ],
      "text/plain": [
       "                   A         B         C         D         E\n",
       "2020-03-07 -0.419647  1.486364  0.108750  1.201319 -0.894056\n",
       "2020-03-09  0.997910  0.951180  0.012570 -0.803728 -1.317067\n",
       "2020-03-10  0.088607  1.032138  1.421043  0.724866 -0.609651"
      ]
     },
     "execution_count": 40,
     "metadata": {},
     "output_type": "execute_result"
    }
   ],
   "source": [
    "df[df['B'] > 0]"
   ]
  },
  {
   "cell_type": "markdown",
   "metadata": {},
   "source": [
    "# Handling Missing Data\n"
   ]
  },
  {
   "cell_type": "code",
   "execution_count": 48,
   "metadata": {},
   "outputs": [],
   "source": [
    "df2 = df.reindex(index=d[0:4],columns=list(df.columns) + ['F'])"
   ]
  },
  {
   "cell_type": "code",
   "execution_count": 49,
   "metadata": {},
   "outputs": [],
   "source": [
    "df2.loc[d[0]:d[1], 'F'] =1"
   ]
  },
  {
   "cell_type": "code",
   "execution_count": 50,
   "metadata": {},
   "outputs": [
    {
     "data": {
      "text/html": [
       "<div>\n",
       "<style scoped>\n",
       "    .dataframe tbody tr th:only-of-type {\n",
       "        vertical-align: middle;\n",
       "    }\n",
       "\n",
       "    .dataframe tbody tr th {\n",
       "        vertical-align: top;\n",
       "    }\n",
       "\n",
       "    .dataframe thead th {\n",
       "        text-align: right;\n",
       "    }\n",
       "</style>\n",
       "<table border=\"1\" class=\"dataframe\">\n",
       "  <thead>\n",
       "    <tr style=\"text-align: right;\">\n",
       "      <th></th>\n",
       "      <th>A</th>\n",
       "      <th>B</th>\n",
       "      <th>C</th>\n",
       "      <th>D</th>\n",
       "      <th>E</th>\n",
       "      <th>F</th>\n",
       "    </tr>\n",
       "  </thead>\n",
       "  <tbody>\n",
       "    <tr>\n",
       "      <th>2020-03-01</th>\n",
       "      <td>-1.342160</td>\n",
       "      <td>-0.626414</td>\n",
       "      <td>-0.943683</td>\n",
       "      <td>0.046141</td>\n",
       "      <td>1.035746</td>\n",
       "      <td>1.0</td>\n",
       "    </tr>\n",
       "    <tr>\n",
       "      <th>2020-03-02</th>\n",
       "      <td>-0.126549</td>\n",
       "      <td>-0.528536</td>\n",
       "      <td>-1.016041</td>\n",
       "      <td>-1.390017</td>\n",
       "      <td>1.228016</td>\n",
       "      <td>1.0</td>\n",
       "    </tr>\n",
       "    <tr>\n",
       "      <th>2020-03-03</th>\n",
       "      <td>-0.166634</td>\n",
       "      <td>-1.537800</td>\n",
       "      <td>0.165611</td>\n",
       "      <td>-0.509041</td>\n",
       "      <td>-0.539266</td>\n",
       "      <td>NaN</td>\n",
       "    </tr>\n",
       "    <tr>\n",
       "      <th>2020-03-04</th>\n",
       "      <td>-0.611977</td>\n",
       "      <td>-0.558939</td>\n",
       "      <td>0.269462</td>\n",
       "      <td>0.207877</td>\n",
       "      <td>0.604916</td>\n",
       "      <td>NaN</td>\n",
       "    </tr>\n",
       "  </tbody>\n",
       "</table>\n",
       "</div>"
      ],
      "text/plain": [
       "                   A         B         C         D         E    F\n",
       "2020-03-01 -1.342160 -0.626414 -0.943683  0.046141  1.035746  1.0\n",
       "2020-03-02 -0.126549 -0.528536 -1.016041 -1.390017  1.228016  1.0\n",
       "2020-03-03 -0.166634 -1.537800  0.165611 -0.509041 -0.539266  NaN\n",
       "2020-03-04 -0.611977 -0.558939  0.269462  0.207877  0.604916  NaN"
      ]
     },
     "execution_count": 50,
     "metadata": {},
     "output_type": "execute_result"
    }
   ],
   "source": [
    "df2"
   ]
  },
  {
   "cell_type": "code",
   "execution_count": 51,
   "metadata": {},
   "outputs": [
    {
     "data": {
      "text/plain": [
       "A    4\n",
       "B    4\n",
       "C    4\n",
       "D    4\n",
       "E    4\n",
       "F    4\n",
       "dtype: int64"
      ]
     },
     "execution_count": 51,
     "metadata": {},
     "output_type": "execute_result"
    }
   ],
   "source": [
    "df2.isnull().count()"
   ]
  },
  {
   "cell_type": "code",
   "execution_count": 52,
   "metadata": {},
   "outputs": [
    {
     "data": {
      "text/html": [
       "<div>\n",
       "<style scoped>\n",
       "    .dataframe tbody tr th:only-of-type {\n",
       "        vertical-align: middle;\n",
       "    }\n",
       "\n",
       "    .dataframe tbody tr th {\n",
       "        vertical-align: top;\n",
       "    }\n",
       "\n",
       "    .dataframe thead th {\n",
       "        text-align: right;\n",
       "    }\n",
       "</style>\n",
       "<table border=\"1\" class=\"dataframe\">\n",
       "  <thead>\n",
       "    <tr style=\"text-align: right;\">\n",
       "      <th></th>\n",
       "      <th>A</th>\n",
       "      <th>B</th>\n",
       "      <th>C</th>\n",
       "      <th>D</th>\n",
       "      <th>E</th>\n",
       "      <th>F</th>\n",
       "    </tr>\n",
       "  </thead>\n",
       "  <tbody>\n",
       "    <tr>\n",
       "      <th>2020-03-01</th>\n",
       "      <td>-1.342160</td>\n",
       "      <td>-0.626414</td>\n",
       "      <td>-0.943683</td>\n",
       "      <td>0.046141</td>\n",
       "      <td>1.035746</td>\n",
       "      <td>1.0</td>\n",
       "    </tr>\n",
       "    <tr>\n",
       "      <th>2020-03-02</th>\n",
       "      <td>-0.126549</td>\n",
       "      <td>-0.528536</td>\n",
       "      <td>-1.016041</td>\n",
       "      <td>-1.390017</td>\n",
       "      <td>1.228016</td>\n",
       "      <td>1.0</td>\n",
       "    </tr>\n",
       "  </tbody>\n",
       "</table>\n",
       "</div>"
      ],
      "text/plain": [
       "                   A         B         C         D         E    F\n",
       "2020-03-01 -1.342160 -0.626414 -0.943683  0.046141  1.035746  1.0\n",
       "2020-03-02 -0.126549 -0.528536 -1.016041 -1.390017  1.228016  1.0"
      ]
     },
     "execution_count": 52,
     "metadata": {},
     "output_type": "execute_result"
    }
   ],
   "source": [
    "df2.dropna()"
   ]
  },
  {
   "cell_type": "code",
   "execution_count": 53,
   "metadata": {},
   "outputs": [
    {
     "data": {
      "text/html": [
       "<div>\n",
       "<style scoped>\n",
       "    .dataframe tbody tr th:only-of-type {\n",
       "        vertical-align: middle;\n",
       "    }\n",
       "\n",
       "    .dataframe tbody tr th {\n",
       "        vertical-align: top;\n",
       "    }\n",
       "\n",
       "    .dataframe thead th {\n",
       "        text-align: right;\n",
       "    }\n",
       "</style>\n",
       "<table border=\"1\" class=\"dataframe\">\n",
       "  <thead>\n",
       "    <tr style=\"text-align: right;\">\n",
       "      <th></th>\n",
       "      <th>A</th>\n",
       "      <th>B</th>\n",
       "      <th>C</th>\n",
       "      <th>D</th>\n",
       "      <th>E</th>\n",
       "      <th>F</th>\n",
       "    </tr>\n",
       "  </thead>\n",
       "  <tbody>\n",
       "    <tr>\n",
       "      <th>2020-03-01</th>\n",
       "      <td>-1.342160</td>\n",
       "      <td>-0.626414</td>\n",
       "      <td>-0.943683</td>\n",
       "      <td>0.046141</td>\n",
       "      <td>1.035746</td>\n",
       "      <td>1.0</td>\n",
       "    </tr>\n",
       "    <tr>\n",
       "      <th>2020-03-02</th>\n",
       "      <td>-0.126549</td>\n",
       "      <td>-0.528536</td>\n",
       "      <td>-1.016041</td>\n",
       "      <td>-1.390017</td>\n",
       "      <td>1.228016</td>\n",
       "      <td>1.0</td>\n",
       "    </tr>\n",
       "    <tr>\n",
       "      <th>2020-03-03</th>\n",
       "      <td>-0.166634</td>\n",
       "      <td>-1.537800</td>\n",
       "      <td>0.165611</td>\n",
       "      <td>-0.509041</td>\n",
       "      <td>-0.539266</td>\n",
       "      <td>2.0</td>\n",
       "    </tr>\n",
       "    <tr>\n",
       "      <th>2020-03-04</th>\n",
       "      <td>-0.611977</td>\n",
       "      <td>-0.558939</td>\n",
       "      <td>0.269462</td>\n",
       "      <td>0.207877</td>\n",
       "      <td>0.604916</td>\n",
       "      <td>2.0</td>\n",
       "    </tr>\n",
       "  </tbody>\n",
       "</table>\n",
       "</div>"
      ],
      "text/plain": [
       "                   A         B         C         D         E    F\n",
       "2020-03-01 -1.342160 -0.626414 -0.943683  0.046141  1.035746  1.0\n",
       "2020-03-02 -0.126549 -0.528536 -1.016041 -1.390017  1.228016  1.0\n",
       "2020-03-03 -0.166634 -1.537800  0.165611 -0.509041 -0.539266  2.0\n",
       "2020-03-04 -0.611977 -0.558939  0.269462  0.207877  0.604916  2.0"
      ]
     },
     "execution_count": 53,
     "metadata": {},
     "output_type": "execute_result"
    }
   ],
   "source": [
    " df2.fillna(value=2)\n",
    "    # check missing values within data frames"
   ]
  },
  {
   "cell_type": "code",
   "execution_count": 54,
   "metadata": {},
   "outputs": [
    {
     "data": {
      "text/html": [
       "<div>\n",
       "<style scoped>\n",
       "    .dataframe tbody tr th:only-of-type {\n",
       "        vertical-align: middle;\n",
       "    }\n",
       "\n",
       "    .dataframe tbody tr th {\n",
       "        vertical-align: top;\n",
       "    }\n",
       "\n",
       "    .dataframe thead th {\n",
       "        text-align: right;\n",
       "    }\n",
       "</style>\n",
       "<table border=\"1\" class=\"dataframe\">\n",
       "  <thead>\n",
       "    <tr style=\"text-align: right;\">\n",
       "      <th></th>\n",
       "      <th>A</th>\n",
       "      <th>B</th>\n",
       "      <th>C</th>\n",
       "      <th>D</th>\n",
       "      <th>E</th>\n",
       "      <th>F</th>\n",
       "    </tr>\n",
       "  </thead>\n",
       "  <tbody>\n",
       "    <tr>\n",
       "      <th>2020-03-01</th>\n",
       "      <td>False</td>\n",
       "      <td>False</td>\n",
       "      <td>False</td>\n",
       "      <td>False</td>\n",
       "      <td>False</td>\n",
       "      <td>False</td>\n",
       "    </tr>\n",
       "    <tr>\n",
       "      <th>2020-03-02</th>\n",
       "      <td>False</td>\n",
       "      <td>False</td>\n",
       "      <td>False</td>\n",
       "      <td>False</td>\n",
       "      <td>False</td>\n",
       "      <td>False</td>\n",
       "    </tr>\n",
       "    <tr>\n",
       "      <th>2020-03-03</th>\n",
       "      <td>False</td>\n",
       "      <td>False</td>\n",
       "      <td>False</td>\n",
       "      <td>False</td>\n",
       "      <td>False</td>\n",
       "      <td>True</td>\n",
       "    </tr>\n",
       "    <tr>\n",
       "      <th>2020-03-04</th>\n",
       "      <td>False</td>\n",
       "      <td>False</td>\n",
       "      <td>False</td>\n",
       "      <td>False</td>\n",
       "      <td>False</td>\n",
       "      <td>True</td>\n",
       "    </tr>\n",
       "  </tbody>\n",
       "</table>\n",
       "</div>"
      ],
      "text/plain": [
       "                A      B      C      D      E      F\n",
       "2020-03-01  False  False  False  False  False  False\n",
       "2020-03-02  False  False  False  False  False  False\n",
       "2020-03-03  False  False  False  False  False   True\n",
       "2020-03-04  False  False  False  False  False   True"
      ]
     },
     "execution_count": 54,
     "metadata": {},
     "output_type": "execute_result"
    }
   ],
   "source": [
    "pd.isna(df2)"
   ]
  },
  {
   "cell_type": "code",
   "execution_count": 55,
   "metadata": {},
   "outputs": [
    {
     "data": {
      "text/plain": [
       "A   -0.158149\n",
       "B   -0.066509\n",
       "C   -0.283047\n",
       "D   -0.213742\n",
       "E   -0.019438\n",
       "dtype: float64"
      ]
     },
     "execution_count": 55,
     "metadata": {},
     "output_type": "execute_result"
    }
   ],
   "source": [
    "df.mean()"
   ]
  },
  {
   "cell_type": "code",
   "execution_count": 60,
   "metadata": {},
   "outputs": [
    {
     "data": {
      "text/plain": [
       "2020-03-01   -0.366074\n",
       "2020-03-02   -0.366626\n",
       "2020-03-03   -0.517426\n",
       "2020-03-04   -0.017732\n",
       "2020-03-05   -0.411944\n",
       "2020-03-06   -0.360788\n",
       "2020-03-07    0.296546\n",
       "2020-03-08   -0.237299\n",
       "2020-03-09   -0.031827\n",
       "2020-03-10    0.531401\n",
       "Freq: D, dtype: float64"
      ]
     },
     "execution_count": 60,
     "metadata": {},
     "output_type": "execute_result"
    }
   ],
   "source": [
    "df.mean(1)"
   ]
  },
  {
   "cell_type": "code",
   "execution_count": 61,
   "metadata": {},
   "outputs": [],
   "source": [
    "s  = pd.Series([1,2,3,np.nan,4,5,6,7,8,9],index = d).shift(2)"
   ]
  },
  {
   "cell_type": "code",
   "execution_count": 62,
   "metadata": {},
   "outputs": [
    {
     "data": {
      "text/plain": [
       "2020-03-01    NaN\n",
       "2020-03-02    NaN\n",
       "2020-03-03    1.0\n",
       "2020-03-04    2.0\n",
       "2020-03-05    3.0\n",
       "2020-03-06    NaN\n",
       "2020-03-07    4.0\n",
       "2020-03-08    5.0\n",
       "2020-03-09    6.0\n",
       "2020-03-10    7.0\n",
       "Freq: D, dtype: float64"
      ]
     },
     "execution_count": 62,
     "metadata": {},
     "output_type": "execute_result"
    }
   ],
   "source": [
    "s"
   ]
  },
  {
   "cell_type": "code",
   "execution_count": 63,
   "metadata": {},
   "outputs": [
    {
     "data": {
      "text/html": [
       "<div>\n",
       "<style scoped>\n",
       "    .dataframe tbody tr th:only-of-type {\n",
       "        vertical-align: middle;\n",
       "    }\n",
       "\n",
       "    .dataframe tbody tr th {\n",
       "        vertical-align: top;\n",
       "    }\n",
       "\n",
       "    .dataframe thead th {\n",
       "        text-align: right;\n",
       "    }\n",
       "</style>\n",
       "<table border=\"1\" class=\"dataframe\">\n",
       "  <thead>\n",
       "    <tr style=\"text-align: right;\">\n",
       "      <th></th>\n",
       "      <th>A</th>\n",
       "      <th>B</th>\n",
       "      <th>C</th>\n",
       "      <th>D</th>\n",
       "      <th>E</th>\n",
       "    </tr>\n",
       "  </thead>\n",
       "  <tbody>\n",
       "    <tr>\n",
       "      <th>2020-03-01</th>\n",
       "      <td>NaN</td>\n",
       "      <td>NaN</td>\n",
       "      <td>NaN</td>\n",
       "      <td>NaN</td>\n",
       "      <td>NaN</td>\n",
       "    </tr>\n",
       "    <tr>\n",
       "      <th>2020-03-02</th>\n",
       "      <td>NaN</td>\n",
       "      <td>NaN</td>\n",
       "      <td>NaN</td>\n",
       "      <td>NaN</td>\n",
       "      <td>NaN</td>\n",
       "    </tr>\n",
       "    <tr>\n",
       "      <th>2020-03-03</th>\n",
       "      <td>-1.166634</td>\n",
       "      <td>-2.537800</td>\n",
       "      <td>-0.834389</td>\n",
       "      <td>-1.509041</td>\n",
       "      <td>-1.539266</td>\n",
       "    </tr>\n",
       "    <tr>\n",
       "      <th>2020-03-04</th>\n",
       "      <td>-2.611977</td>\n",
       "      <td>-2.558939</td>\n",
       "      <td>-1.730538</td>\n",
       "      <td>-1.792123</td>\n",
       "      <td>-1.395084</td>\n",
       "    </tr>\n",
       "    <tr>\n",
       "      <th>2020-03-05</th>\n",
       "      <td>-2.830151</td>\n",
       "      <td>-3.424693</td>\n",
       "      <td>-4.074170</td>\n",
       "      <td>-3.869344</td>\n",
       "      <td>-2.861363</td>\n",
       "    </tr>\n",
       "    <tr>\n",
       "      <th>2020-03-06</th>\n",
       "      <td>NaN</td>\n",
       "      <td>NaN</td>\n",
       "      <td>NaN</td>\n",
       "      <td>NaN</td>\n",
       "      <td>NaN</td>\n",
       "    </tr>\n",
       "    <tr>\n",
       "      <th>2020-03-07</th>\n",
       "      <td>-4.419647</td>\n",
       "      <td>-2.513636</td>\n",
       "      <td>-3.891250</td>\n",
       "      <td>-2.798681</td>\n",
       "      <td>-4.894056</td>\n",
       "    </tr>\n",
       "    <tr>\n",
       "      <th>2020-03-08</th>\n",
       "      <td>-4.298700</td>\n",
       "      <td>-5.039313</td>\n",
       "      <td>-5.738982</td>\n",
       "      <td>-6.021938</td>\n",
       "      <td>-5.087560</td>\n",
       "    </tr>\n",
       "    <tr>\n",
       "      <th>2020-03-09</th>\n",
       "      <td>-5.002090</td>\n",
       "      <td>-5.048820</td>\n",
       "      <td>-5.987430</td>\n",
       "      <td>-6.803728</td>\n",
       "      <td>-7.317067</td>\n",
       "    </tr>\n",
       "    <tr>\n",
       "      <th>2020-03-10</th>\n",
       "      <td>-6.911393</td>\n",
       "      <td>-5.967862</td>\n",
       "      <td>-5.578957</td>\n",
       "      <td>-6.275134</td>\n",
       "      <td>-7.609651</td>\n",
       "    </tr>\n",
       "  </tbody>\n",
       "</table>\n",
       "</div>"
      ],
      "text/plain": [
       "                   A         B         C         D         E\n",
       "2020-03-01       NaN       NaN       NaN       NaN       NaN\n",
       "2020-03-02       NaN       NaN       NaN       NaN       NaN\n",
       "2020-03-03 -1.166634 -2.537800 -0.834389 -1.509041 -1.539266\n",
       "2020-03-04 -2.611977 -2.558939 -1.730538 -1.792123 -1.395084\n",
       "2020-03-05 -2.830151 -3.424693 -4.074170 -3.869344 -2.861363\n",
       "2020-03-06       NaN       NaN       NaN       NaN       NaN\n",
       "2020-03-07 -4.419647 -2.513636 -3.891250 -2.798681 -4.894056\n",
       "2020-03-08 -4.298700 -5.039313 -5.738982 -6.021938 -5.087560\n",
       "2020-03-09 -5.002090 -5.048820 -5.987430 -6.803728 -7.317067\n",
       "2020-03-10 -6.911393 -5.967862 -5.578957 -6.275134 -7.609651"
      ]
     },
     "execution_count": 63,
     "metadata": {},
     "output_type": "execute_result"
    }
   ],
   "source": [
    "df.sub(s, axis='index') \n",
    "#broadcast specify dimension"
   ]
  },
  {
   "cell_type": "code",
   "execution_count": 65,
   "metadata": {},
   "outputs": [
    {
     "data": {
      "text/html": [
       "<div>\n",
       "<style scoped>\n",
       "    .dataframe tbody tr th:only-of-type {\n",
       "        vertical-align: middle;\n",
       "    }\n",
       "\n",
       "    .dataframe tbody tr th {\n",
       "        vertical-align: top;\n",
       "    }\n",
       "\n",
       "    .dataframe thead th {\n",
       "        text-align: right;\n",
       "    }\n",
       "</style>\n",
       "<table border=\"1\" class=\"dataframe\">\n",
       "  <thead>\n",
       "    <tr style=\"text-align: right;\">\n",
       "      <th></th>\n",
       "      <th>A</th>\n",
       "      <th>B</th>\n",
       "      <th>C</th>\n",
       "      <th>D</th>\n",
       "      <th>E</th>\n",
       "    </tr>\n",
       "  </thead>\n",
       "  <tbody>\n",
       "    <tr>\n",
       "      <th>2020-03-01</th>\n",
       "      <td>-1.342160</td>\n",
       "      <td>-0.626414</td>\n",
       "      <td>-0.943683</td>\n",
       "      <td>0.046141</td>\n",
       "      <td>1.035746</td>\n",
       "    </tr>\n",
       "    <tr>\n",
       "      <th>2020-03-02</th>\n",
       "      <td>-1.468709</td>\n",
       "      <td>-1.154950</td>\n",
       "      <td>-1.959724</td>\n",
       "      <td>-1.343876</td>\n",
       "      <td>2.263762</td>\n",
       "    </tr>\n",
       "    <tr>\n",
       "      <th>2020-03-03</th>\n",
       "      <td>-1.635344</td>\n",
       "      <td>-2.692751</td>\n",
       "      <td>-1.794113</td>\n",
       "      <td>-1.852917</td>\n",
       "      <td>1.724496</td>\n",
       "    </tr>\n",
       "    <tr>\n",
       "      <th>2020-03-04</th>\n",
       "      <td>-2.247320</td>\n",
       "      <td>-3.251689</td>\n",
       "      <td>-1.524651</td>\n",
       "      <td>-1.645040</td>\n",
       "      <td>2.329413</td>\n",
       "    </tr>\n",
       "    <tr>\n",
       "      <th>2020-03-05</th>\n",
       "      <td>-2.077471</td>\n",
       "      <td>-3.676382</td>\n",
       "      <td>-2.598822</td>\n",
       "      <td>-2.514384</td>\n",
       "      <td>2.468050</td>\n",
       "    </tr>\n",
       "    <tr>\n",
       "      <th>2020-03-06</th>\n",
       "      <td>-2.949657</td>\n",
       "      <td>-4.095459</td>\n",
       "      <td>-3.633855</td>\n",
       "      <td>-2.237938</td>\n",
       "      <td>2.713959</td>\n",
       "    </tr>\n",
       "    <tr>\n",
       "      <th>2020-03-07</th>\n",
       "      <td>-3.369304</td>\n",
       "      <td>-2.609095</td>\n",
       "      <td>-3.525105</td>\n",
       "      <td>-1.036619</td>\n",
       "      <td>1.819903</td>\n",
       "    </tr>\n",
       "    <tr>\n",
       "      <th>2020-03-08</th>\n",
       "      <td>-2.668004</td>\n",
       "      <td>-2.648408</td>\n",
       "      <td>-4.264087</td>\n",
       "      <td>-2.058557</td>\n",
       "      <td>1.732343</td>\n",
       "    </tr>\n",
       "    <tr>\n",
       "      <th>2020-03-09</th>\n",
       "      <td>-1.670094</td>\n",
       "      <td>-1.697228</td>\n",
       "      <td>-4.251517</td>\n",
       "      <td>-2.862285</td>\n",
       "      <td>0.415276</td>\n",
       "    </tr>\n",
       "    <tr>\n",
       "      <th>2020-03-10</th>\n",
       "      <td>-1.581487</td>\n",
       "      <td>-0.665090</td>\n",
       "      <td>-2.830474</td>\n",
       "      <td>-2.137418</td>\n",
       "      <td>-0.194375</td>\n",
       "    </tr>\n",
       "  </tbody>\n",
       "</table>\n",
       "</div>"
      ],
      "text/plain": [
       "                   A         B         C         D         E\n",
       "2020-03-01 -1.342160 -0.626414 -0.943683  0.046141  1.035746\n",
       "2020-03-02 -1.468709 -1.154950 -1.959724 -1.343876  2.263762\n",
       "2020-03-03 -1.635344 -2.692751 -1.794113 -1.852917  1.724496\n",
       "2020-03-04 -2.247320 -3.251689 -1.524651 -1.645040  2.329413\n",
       "2020-03-05 -2.077471 -3.676382 -2.598822 -2.514384  2.468050\n",
       "2020-03-06 -2.949657 -4.095459 -3.633855 -2.237938  2.713959\n",
       "2020-03-07 -3.369304 -2.609095 -3.525105 -1.036619  1.819903\n",
       "2020-03-08 -2.668004 -2.648408 -4.264087 -2.058557  1.732343\n",
       "2020-03-09 -1.670094 -1.697228 -4.251517 -2.862285  0.415276\n",
       "2020-03-10 -1.581487 -0.665090 -2.830474 -2.137418 -0.194375"
      ]
     },
     "execution_count": 65,
     "metadata": {},
     "output_type": "execute_result"
    }
   ],
   "source": [
    "df.apply(np.cumsum)"
   ]
  },
  {
   "cell_type": "code",
   "execution_count": 66,
   "metadata": {},
   "outputs": [
    {
     "data": {
      "text/plain": [
       "A    2.340070\n",
       "B    3.024164\n",
       "C    2.495213\n",
       "D    2.591337\n",
       "E    2.545083\n",
       "dtype: float64"
      ]
     },
     "execution_count": 66,
     "metadata": {},
     "output_type": "execute_result"
    }
   ],
   "source": [
    "df.apply(lambda x: x.max() - x.min())"
   ]
  },
  {
   "cell_type": "code",
   "execution_count": 67,
   "metadata": {},
   "outputs": [
    {
     "data": {
      "text/plain": [
       "7.0    1\n",
       "6.0    1\n",
       "5.0    1\n",
       "4.0    1\n",
       "3.0    1\n",
       "2.0    1\n",
       "1.0    1\n",
       "dtype: int64"
      ]
     },
     "execution_count": 67,
     "metadata": {},
     "output_type": "execute_result"
    }
   ],
   "source": [
    "s.value_counts()"
   ]
  },
  {
   "cell_type": "code",
   "execution_count": 68,
   "metadata": {},
   "outputs": [],
   "source": [
    "s = pd.Series(['edurreka', 'Python','jupyter',np.nan , 'football','world'])"
   ]
  },
  {
   "cell_type": "code",
   "execution_count": 69,
   "metadata": {},
   "outputs": [
    {
     "data": {
      "text/plain": [
       "0    edurreka\n",
       "1      python\n",
       "2     jupyter\n",
       "3         NaN\n",
       "4    football\n",
       "5       world\n",
       "dtype: object"
      ]
     },
     "execution_count": 69,
     "metadata": {},
     "output_type": "execute_result"
    }
   ],
   "source": [
    "s.str.lower()"
   ]
  },
  {
   "cell_type": "code",
   "execution_count": 70,
   "metadata": {},
   "outputs": [
    {
     "data": {
      "text/plain": [
       "0    EDURREKA\n",
       "1      PYTHON\n",
       "2     JUPYTER\n",
       "3         NaN\n",
       "4    FOOTBALL\n",
       "5       WORLD\n",
       "dtype: object"
      ]
     },
     "execution_count": 70,
     "metadata": {},
     "output_type": "execute_result"
    }
   ],
   "source": [
    "s.str.upper()"
   ]
  },
  {
   "cell_type": "code",
   "execution_count": 71,
   "metadata": {},
   "outputs": [],
   "source": [
    "#MERGING "
   ]
  },
  {
   "cell_type": "code",
   "execution_count": 83,
   "metadata": {},
   "outputs": [],
   "source": [
    "df = pd.DataFrame(np.random.randn(10,4))"
   ]
  },
  {
   "cell_type": "code",
   "execution_count": 84,
   "metadata": {},
   "outputs": [
    {
     "data": {
      "text/html": [
       "<div>\n",
       "<style scoped>\n",
       "    .dataframe tbody tr th:only-of-type {\n",
       "        vertical-align: middle;\n",
       "    }\n",
       "\n",
       "    .dataframe tbody tr th {\n",
       "        vertical-align: top;\n",
       "    }\n",
       "\n",
       "    .dataframe thead th {\n",
       "        text-align: right;\n",
       "    }\n",
       "</style>\n",
       "<table border=\"1\" class=\"dataframe\">\n",
       "  <thead>\n",
       "    <tr style=\"text-align: right;\">\n",
       "      <th></th>\n",
       "      <th>0</th>\n",
       "      <th>1</th>\n",
       "      <th>2</th>\n",
       "      <th>3</th>\n",
       "    </tr>\n",
       "  </thead>\n",
       "  <tbody>\n",
       "    <tr>\n",
       "      <th>0</th>\n",
       "      <td>0.346083</td>\n",
       "      <td>0.452212</td>\n",
       "      <td>0.255379</td>\n",
       "      <td>-0.428941</td>\n",
       "    </tr>\n",
       "    <tr>\n",
       "      <th>1</th>\n",
       "      <td>0.081757</td>\n",
       "      <td>-0.611451</td>\n",
       "      <td>-1.112150</td>\n",
       "      <td>-0.616658</td>\n",
       "    </tr>\n",
       "    <tr>\n",
       "      <th>2</th>\n",
       "      <td>0.967199</td>\n",
       "      <td>-1.003891</td>\n",
       "      <td>0.762876</td>\n",
       "      <td>-0.333500</td>\n",
       "    </tr>\n",
       "    <tr>\n",
       "      <th>3</th>\n",
       "      <td>-0.352641</td>\n",
       "      <td>1.323931</td>\n",
       "      <td>1.010022</td>\n",
       "      <td>1.759198</td>\n",
       "    </tr>\n",
       "    <tr>\n",
       "      <th>4</th>\n",
       "      <td>1.841832</td>\n",
       "      <td>0.079386</td>\n",
       "      <td>-0.210441</td>\n",
       "      <td>-0.823702</td>\n",
       "    </tr>\n",
       "    <tr>\n",
       "      <th>5</th>\n",
       "      <td>0.631267</td>\n",
       "      <td>-1.508238</td>\n",
       "      <td>0.407135</td>\n",
       "      <td>1.034101</td>\n",
       "    </tr>\n",
       "    <tr>\n",
       "      <th>6</th>\n",
       "      <td>0.145153</td>\n",
       "      <td>0.369984</td>\n",
       "      <td>1.009410</td>\n",
       "      <td>-1.287873</td>\n",
       "    </tr>\n",
       "    <tr>\n",
       "      <th>7</th>\n",
       "      <td>0.444156</td>\n",
       "      <td>-0.409213</td>\n",
       "      <td>0.063530</td>\n",
       "      <td>-1.171408</td>\n",
       "    </tr>\n",
       "    <tr>\n",
       "      <th>8</th>\n",
       "      <td>-0.849999</td>\n",
       "      <td>1.582454</td>\n",
       "      <td>0.403256</td>\n",
       "      <td>1.768644</td>\n",
       "    </tr>\n",
       "    <tr>\n",
       "      <th>9</th>\n",
       "      <td>0.093131</td>\n",
       "      <td>1.789157</td>\n",
       "      <td>1.712059</td>\n",
       "      <td>-0.879179</td>\n",
       "    </tr>\n",
       "  </tbody>\n",
       "</table>\n",
       "</div>"
      ],
      "text/plain": [
       "          0         1         2         3\n",
       "0  0.346083  0.452212  0.255379 -0.428941\n",
       "1  0.081757 -0.611451 -1.112150 -0.616658\n",
       "2  0.967199 -1.003891  0.762876 -0.333500\n",
       "3 -0.352641  1.323931  1.010022  1.759198\n",
       "4  1.841832  0.079386 -0.210441 -0.823702\n",
       "5  0.631267 -1.508238  0.407135  1.034101\n",
       "6  0.145153  0.369984  1.009410 -1.287873\n",
       "7  0.444156 -0.409213  0.063530 -1.171408\n",
       "8 -0.849999  1.582454  0.403256  1.768644\n",
       "9  0.093131  1.789157  1.712059 -0.879179"
      ]
     },
     "execution_count": 84,
     "metadata": {},
     "output_type": "execute_result"
    }
   ],
   "source": [
    "df"
   ]
  },
  {
   "cell_type": "markdown",
   "metadata": {},
   "source": [
    "# Difference btwn rand and randn"
   ]
  },
  {
   "cell_type": "code",
   "execution_count": 82,
   "metadata": {},
   "outputs": [
    {
     "data": {
      "image/png": "[encoded data removed]",
      "text/plain": [
       "<Figure size 432x288 with 1 Axes>"
      ]
     },
     "metadata": {
      "needs_background": "light"
     },
     "output_type": "display_data"
    },
    {
     "data": {
      "image/png": "[encoded data removed]",
      "text/plain": [
       "<Figure size 432x288 with 1 Axes>"
      ]
     },
     "metadata": {
      "needs_background": "light"
     },
     "output_type": "display_data"
    }
   ],
   "source": [
    "import numpy as np\n",
    "import matplotlib.pyplot as plt\n",
    "\n",
    "sample_size = 100000\n",
    "uniform = np.random.rand(sample_size)\n",
    "normal = np.random.randn(sample_size)\n",
    "\n",
    "pdf, bins, patches = plt.hist(uniform, bins=20, range=(0, 1), density=True)\n",
    "plt.title('rand: uniform')\n",
    "plt.show()\n",
    "\n",
    "pdf, bins, patches = plt.hist(normal, bins=20, range=(-4, 4), density=True)\n",
    "plt.title('randn: normal')\n",
    "plt.show()"
   ]
  },
  {
   "cell_type": "code",
   "execution_count": 86,
   "metadata": {},
   "outputs": [
    {
     "data": {
      "text/plain": [
       "[          0         1         2         3\n",
       " 0  0.346083  0.452212  0.255379 -0.428941\n",
       " 1  0.081757 -0.611451 -1.112150 -0.616658\n",
       " 2  0.967199 -1.003891  0.762876 -0.333500,\n",
       "           0         1         2         3\n",
       " 3 -0.352641  1.323931  1.010022  1.759198\n",
       " 4  1.841832  0.079386 -0.210441 -0.823702\n",
       " 5  0.631267 -1.508238  0.407135  1.034101\n",
       " 6  0.145153  0.369984  1.009410 -1.287873,\n",
       "           0         1         2         3\n",
       " 7  0.444156 -0.409213  0.063530 -1.171408\n",
       " 8 -0.849999  1.582454  0.403256  1.768644\n",
       " 9  0.093131  1.789157  1.712059 -0.879179]"
      ]
     },
     "execution_count": 86,
     "metadata": {},
     "output_type": "execute_result"
    }
   ],
   "source": [
    "df2 = [df[:3], df[3:7],df[7:]]\n",
    "df2"
   ]
  },
  {
   "cell_type": "code",
   "execution_count": 87,
   "metadata": {},
   "outputs": [
    {
     "data": {
      "text/html": [
       "<div>\n",
       "<style scoped>\n",
       "    .dataframe tbody tr th:only-of-type {\n",
       "        vertical-align: middle;\n",
       "    }\n",
       "\n",
       "    .dataframe tbody tr th {\n",
       "        vertical-align: top;\n",
       "    }\n",
       "\n",
       "    .dataframe thead th {\n",
       "        text-align: right;\n",
       "    }\n",
       "</style>\n",
       "<table border=\"1\" class=\"dataframe\">\n",
       "  <thead>\n",
       "    <tr style=\"text-align: right;\">\n",
       "      <th></th>\n",
       "      <th>0</th>\n",
       "      <th>1</th>\n",
       "      <th>2</th>\n",
       "      <th>3</th>\n",
       "    </tr>\n",
       "  </thead>\n",
       "  <tbody>\n",
       "    <tr>\n",
       "      <th>0</th>\n",
       "      <td>0.346083</td>\n",
       "      <td>0.452212</td>\n",
       "      <td>0.255379</td>\n",
       "      <td>-0.428941</td>\n",
       "    </tr>\n",
       "    <tr>\n",
       "      <th>1</th>\n",
       "      <td>0.081757</td>\n",
       "      <td>-0.611451</td>\n",
       "      <td>-1.112150</td>\n",
       "      <td>-0.616658</td>\n",
       "    </tr>\n",
       "    <tr>\n",
       "      <th>2</th>\n",
       "      <td>0.967199</td>\n",
       "      <td>-1.003891</td>\n",
       "      <td>0.762876</td>\n",
       "      <td>-0.333500</td>\n",
       "    </tr>\n",
       "    <tr>\n",
       "      <th>3</th>\n",
       "      <td>-0.352641</td>\n",
       "      <td>1.323931</td>\n",
       "      <td>1.010022</td>\n",
       "      <td>1.759198</td>\n",
       "    </tr>\n",
       "    <tr>\n",
       "      <th>4</th>\n",
       "      <td>1.841832</td>\n",
       "      <td>0.079386</td>\n",
       "      <td>-0.210441</td>\n",
       "      <td>-0.823702</td>\n",
       "    </tr>\n",
       "    <tr>\n",
       "      <th>5</th>\n",
       "      <td>0.631267</td>\n",
       "      <td>-1.508238</td>\n",
       "      <td>0.407135</td>\n",
       "      <td>1.034101</td>\n",
       "    </tr>\n",
       "    <tr>\n",
       "      <th>6</th>\n",
       "      <td>0.145153</td>\n",
       "      <td>0.369984</td>\n",
       "      <td>1.009410</td>\n",
       "      <td>-1.287873</td>\n",
       "    </tr>\n",
       "    <tr>\n",
       "      <th>7</th>\n",
       "      <td>0.444156</td>\n",
       "      <td>-0.409213</td>\n",
       "      <td>0.063530</td>\n",
       "      <td>-1.171408</td>\n",
       "    </tr>\n",
       "    <tr>\n",
       "      <th>8</th>\n",
       "      <td>-0.849999</td>\n",
       "      <td>1.582454</td>\n",
       "      <td>0.403256</td>\n",
       "      <td>1.768644</td>\n",
       "    </tr>\n",
       "    <tr>\n",
       "      <th>9</th>\n",
       "      <td>0.093131</td>\n",
       "      <td>1.789157</td>\n",
       "      <td>1.712059</td>\n",
       "      <td>-0.879179</td>\n",
       "    </tr>\n",
       "  </tbody>\n",
       "</table>\n",
       "</div>"
      ],
      "text/plain": [
       "          0         1         2         3\n",
       "0  0.346083  0.452212  0.255379 -0.428941\n",
       "1  0.081757 -0.611451 -1.112150 -0.616658\n",
       "2  0.967199 -1.003891  0.762876 -0.333500\n",
       "3 -0.352641  1.323931  1.010022  1.759198\n",
       "4  1.841832  0.079386 -0.210441 -0.823702\n",
       "5  0.631267 -1.508238  0.407135  1.034101\n",
       "6  0.145153  0.369984  1.009410 -1.287873\n",
       "7  0.444156 -0.409213  0.063530 -1.171408\n",
       "8 -0.849999  1.582454  0.403256  1.768644\n",
       "9  0.093131  1.789157  1.712059 -0.879179"
      ]
     },
     "execution_count": 87,
     "metadata": {},
     "output_type": "execute_result"
    }
   ],
   "source": [
    "pd.concat(df2)"
   ]
  },
  {
   "cell_type": "code",
   "execution_count": 88,
   "metadata": {},
   "outputs": [],
   "source": [
    "left = pd.DataFrame({'A':[1,2], 'B':[3,4]})"
   ]
  },
  {
   "cell_type": "code",
   "execution_count": null,
   "metadata": {},
   "outputs": [],
   "source": [
    "right = pd.DataFrame({'C':[]})"
   ]
  }
 ],
 "metadata": {
  "kernelspec": {
   "display_name": "Python 3",
   "language": "python",
   "name": "python3"
  },
  "language_info": {
   "codemirror_mode": {
    "name": "ipython",
    "version": 3
   },
   "file_extension": ".py",
   "mimetype": "text/x-python",
   "name": "python",
   "nbconvert_exporter": "python",
   "pygments_lexer": "ipython3",
   "version": "3.7.3"
  }
 },
 "nbformat": 4,
 "nbformat_minor": 2
}
